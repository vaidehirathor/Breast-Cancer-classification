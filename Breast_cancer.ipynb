{
 "cells": [
  {
   "cell_type": "code",
   "execution_count": 1,
   "metadata": {},
   "outputs": [],
   "source": [
    "import numpy as np\n",
    "import matplotlib.pyplot as plt\n",
    "import pandas as pd\n",
    "\n",
    "%matplotlib inline"
   ]
  },
  {
   "cell_type": "code",
   "execution_count": 3,
   "metadata": {
    "scrolled": false
   },
   "outputs": [],
   "source": [
    "#LOADING THE DATA From data.csv\n",
    "df = pd.read_csv('data.csv')\n",
    "df['diagnosis'] = df['diagnosis'].map({'M':1,'B':0})\n",
    "\n",
    "#Complete data set:\n",
    "X = df[df.columns[2:32]]\n",
    "Y = df['diagnosis']\n",
    "Y = Y.values.reshape(Y.shape[0],1)\n",
    "\n",
    "\n",
    "#train set (80%):\n",
    "train_X = X.loc[0:454,X.columns[0:]]\n",
    "train_Y = Y[0:455]\n",
    "\n",
    "#test set (20%):\n",
    "test_X = X.loc[0:143,X.columns[0:]]\n",
    "test_Y = Y[0:144]\n"
   ]
  },
  {
   "cell_type": "code",
   "execution_count": 6,
   "metadata": {
    "scrolled": false
   },
   "outputs": [],
   "source": [
    "#training set:\n",
    "\n",
    "mean = train_X.mean()\n",
    "std_error = train_X.std()\n",
    "train_X = (train_X - mean)/std_error\n",
    "\n",
    "#test set:\n",
    "mean = test_X.mean()\n",
    "std_error = test_X.std()\n",
    "test_X = (test_X - mean)/std_error"
   ]
  },
  {
   "cell_type": "code",
   "execution_count": 8,
   "metadata": {},
   "outputs": [
    {
     "name": "stdout",
     "output_type": "stream",
     "text": [
      "Shape of train_X (455, 30)\n",
      "Shape of test_X (144, 30)\n",
      "Shape of train_Y (455, 1)\n",
      "Shape of test_Y (144, 1)\n"
     ]
    }
   ],
   "source": [
    "print(\"Shape of train_X\",train_X.shape)\n",
    "print(\"Shape of test_X\",test_X.shape)\n",
    "print(\"Shape of train_Y\",train_Y.shape)\n",
    "print(\"Shape of test_Y\",test_Y.shape)"
   ]
  },
  {
   "cell_type": "code",
   "execution_count": 6,
   "metadata": {},
   "outputs": [],
   "source": [
    "def sigmoid(z):\n",
    "    return 1/(1+np.exp(-z))"
   ]
  },
  {
   "cell_type": "code",
   "execution_count": 7,
   "metadata": {},
   "outputs": [
    {
     "data": {
      "text/plain": [
       "array([ 0.73105858,  0.88079708,  0.95257413,  0.95257413])"
      ]
     },
     "execution_count": 7,
     "metadata": {},
     "output_type": "execute_result"
    }
   ],
   "source": [
    "sigmoid(np.array([1,2,3,3]))"
   ]
  },
  {
   "cell_type": "code",
   "execution_count": 8,
   "metadata": {},
   "outputs": [],
   "source": [
    "def random_init(dim):\n",
    "    w = np.zeros((dim,1))\n",
    "    b = 0\n",
    "    \n",
    "    return w,b\n"
   ]
  },
  {
   "cell_type": "code",
   "execution_count": 9,
   "metadata": {
    "scrolled": true
   },
   "outputs": [
    {
     "data": {
      "text/plain": [
       "(array([[ 0.],\n",
       "        [ 0.],\n",
       "        [ 0.],\n",
       "        [ 0.],\n",
       "        [ 0.],\n",
       "        [ 0.],\n",
       "        [ 0.],\n",
       "        [ 0.],\n",
       "        [ 0.],\n",
       "        [ 0.],\n",
       "        [ 0.],\n",
       "        [ 0.],\n",
       "        [ 0.],\n",
       "        [ 0.],\n",
       "        [ 0.],\n",
       "        [ 0.],\n",
       "        [ 0.],\n",
       "        [ 0.],\n",
       "        [ 0.],\n",
       "        [ 0.],\n",
       "        [ 0.],\n",
       "        [ 0.],\n",
       "        [ 0.],\n",
       "        [ 0.],\n",
       "        [ 0.],\n",
       "        [ 0.],\n",
       "        [ 0.],\n",
       "        [ 0.],\n",
       "        [ 0.],\n",
       "        [ 0.]]), 0)"
      ]
     },
     "execution_count": 9,
     "metadata": {},
     "output_type": "execute_result"
    }
   ],
   "source": [
    "(random_init(train_X.shape[1]))"
   ]
  },
  {
   "cell_type": "code",
   "execution_count": 10,
   "metadata": {},
   "outputs": [],
   "source": [
    "def propo(w,b,X,Y):\n",
    "    \n",
    "    m = X.shape[0]\n",
    "    \n",
    "    #forward propogation\n",
    "    z = np.dot(X,w) + b\n",
    "    a = sigmoid(z)\n",
    "    cost = -np.sum(Y*np.log(a) - (1-Y)*np.log(1-a))/m\n",
    "    \n",
    "    \n",
    "    #backpropogation:\n",
    "    dz = a-Y\n",
    "    dw  = np.dot(np.transpose(X),dz)/m\n",
    "    db = np.sum(dz)/m\n",
    "    \n",
    "    grad = {\n",
    "        \"dw\":dw,\n",
    "        \"db\":db\n",
    "    }\n",
    "    return grad,cost"
   ]
  },
  {
   "cell_type": "code",
   "execution_count": 11,
   "metadata": {},
   "outputs": [],
   "source": [
    "def optim(w,b,X,Y,learning_rate,num_iteration):\n",
    "    costs = []\n",
    "    \n",
    "    for i in range(num_iteration):\n",
    "        grads, cost=propo(w,b,X,Y)\n",
    "        \n",
    "        dw = grads[\"dw\"]\n",
    "        db = grads[\"db\"]\n",
    "        \n",
    "        #updating w and b\n",
    "        w  = w - learning_rate*dw\n",
    "        b  = b - learning_rate*db\n",
    "          \n",
    "        if(i%100==0):\n",
    "            costs.append(cost)\n",
    "        \n",
    "    params= {\n",
    "        \"w\":w,\n",
    "        \"b\":b\n",
    "    }\n",
    "    grads = {\n",
    "        \"dw\":dw,\n",
    "        \"db\":db\n",
    "    }\n",
    "    return params,grads,costs"
   ]
  },
  {
   "cell_type": "code",
   "execution_count": 12,
   "metadata": {},
   "outputs": [
    {
     "name": "stdout",
     "output_type": "stream",
     "text": [
      "{'b': -0.16043874120243809, 'w': array([[ 0.43834656],\n",
      "       [ 0.55963099],\n",
      "       [ 0.43177872],\n",
      "       [ 0.42413465],\n",
      "       [ 0.21983939],\n",
      "       [ 0.12473863],\n",
      "       [ 0.30470165],\n",
      "       [ 0.43482496],\n",
      "       [ 0.03752566],\n",
      "       [-0.21334024],\n",
      "       [ 0.41298853],\n",
      "       [-0.02057517],\n",
      "       [ 0.34706642],\n",
      "       [ 0.37650586],\n",
      "       [ 0.01480898],\n",
      "       [-0.17735229],\n",
      "       [-0.11835119],\n",
      "       [ 0.10025685],\n",
      "       [-0.14960159],\n",
      "       [-0.26154789],\n",
      "       [ 0.5401576 ],\n",
      "       [ 0.60048724],\n",
      "       [ 0.5171403 ],\n",
      "       [ 0.49622086],\n",
      "       [ 0.46887288],\n",
      "       [ 0.23440551],\n",
      "       [ 0.35239694],\n",
      "       [ 0.51899847],\n",
      "       [ 0.30540306],\n",
      "       [ 0.14756818]])}\n",
      "{'dw': array([[-0.00408704],\n",
      "       [-0.01091009],\n",
      "       [-0.00389218],\n",
      "       [-0.00423117],\n",
      "       [-0.00314432],\n",
      "       [ 0.00260579],\n",
      "       [-0.00371421],\n",
      "       [-0.00524939],\n",
      "       [ 0.00168926],\n",
      "       [ 0.00423083],\n",
      "       [-0.00837115],\n",
      "       [ 0.00129779],\n",
      "       [-0.00606264],\n",
      "       [-0.00643649],\n",
      "       [-0.00195703],\n",
      "       [ 0.00710513],\n",
      "       [ 0.00207288],\n",
      "       [-0.00204394],\n",
      "       [ 0.0029315 ],\n",
      "       [ 0.0058859 ],\n",
      "       [-0.00743312],\n",
      "       [-0.01156869],\n",
      "       [-0.00669693],\n",
      "       [-0.00683755],\n",
      "       [-0.00986598],\n",
      "       [-0.00057567],\n",
      "       [-0.00559677],\n",
      "       [-0.00800526],\n",
      "       [-0.00573027],\n",
      "       [-0.00245565]]), 'db': -0.0010541004729151995}\n",
      "[-0.12644223293730872, -0.044742003048892184, -0.020754294704634416, -0.0097326627781536435, -0.0034848202648475875, 0.00048544644039391009, 0.0032001791366240116, 0.0051536355274547814, 0.0066134891384207039, 0.0077370574121540586, 0.0086226461416580337, 0.0093346692222062398, 0.0099169542201873063, 0.010400249775379044, 0.010806684172414992, 0.011152527544035729, 0.011449964778669927, 0.011708268151967773, 0.011934593192447334, 0.01213453106399974]\n"
     ]
    }
   ],
   "source": [
    "#random init of w,b\n",
    "w,b = random_init(train_X.shape[1])\n",
    "\n",
    "#forward, backward & grad. descent:\n",
    "\n",
    "params,grads,costs = optim(w,b,train_X,train_Y,0.01,2000)\n",
    "\n",
    "print(params)\n",
    "print(grads)\n",
    "print(costs)"
   ]
  },
  {
   "cell_type": "code",
   "execution_count": 13,
   "metadata": {},
   "outputs": [
    {
     "data": {
      "image/png": "[encoded data removed]",
      "text/plain": [
       "<matplotlib.figure.Figure at 0x7f2b351aedd8>"
      ]
     },
     "metadata": {},
     "output_type": "display_data"
    }
   ],
   "source": [
    "# plt.plot(cost_all,range(len(cost_all)))\n",
    "costs = np.squeeze(costs)\n",
    "plt.plot(costs)\n",
    "plt.xlabel('No. of iteration')\n",
    "plt.ylabel('Cost')\n",
    "plt.show()"
   ]
  },
  {
   "cell_type": "code",
   "execution_count": 14,
   "metadata": {},
   "outputs": [],
   "source": [
    "def predict(w,b,X):\n",
    "    a = sigmoid(np.dot(X,w) + b)\n",
    "    return a"
   ]
  },
  {
   "cell_type": "code",
   "execution_count": 15,
   "metadata": {},
   "outputs": [],
   "source": [
    "def oneORzero(x):\n",
    "    if(x>=0.5):\n",
    "        return 1\n",
    "    elif(x<0.5):\n",
    "        return 0"
   ]
  },
  {
   "cell_type": "code",
   "execution_count": 31,
   "metadata": {},
   "outputs": [
    {
     "name": "stdout",
     "output_type": "stream",
     "text": [
      "Training set accuracy =  98.2417582418\n",
      "Test set accuracy =  92.3611111111\n"
     ]
    }
   ],
   "source": [
    "# Accuracy for training set:\n",
    "temp = predict(params[\"w\"],params[\"b\"],train_X)\n",
    "train_prediction = np.array(list(map(oneORzero,temp)))\n",
    "train_prediction = train_prediction.reshape((train_prediction.shape[0],1))\n",
    "\n",
    "# Accuracy for test set:\n",
    "temp = predict(params[\"w\"],params[\"b\"],test_X)\n",
    "test_prediction = np.array(list(map(oneORzero,temp)))\n",
    "test_prediction = test_prediction.reshape((test_prediction.shape[0],1))\n",
    "\n",
    "print(\"Training set accuracy = \",(100 - np.mean(np.abs(train_prediction - train_Y))*100))\n",
    "print(\"Test set accuracy = \",(100 - np.mean(np.abs(test_prediction - test_Y))*100))"
   ]
  }
 ],
 "metadata": {
  "kernelspec": {
   "display_name": "Python 3",
   "language": "python",
   "name": "python3"
  },
  "language_info": {
   "codemirror_mode": {
    "name": "ipython",
    "version": 3
   },
   "file_extension": ".py",
   "mimetype": "text/x-python",
   "name": "python",
   "nbconvert_exporter": "python",
   "pygments_lexer": "ipython3",
   "version": "3.8.5"
  }
 },
 "nbformat": 4,
 "nbformat_minor": 2
}
